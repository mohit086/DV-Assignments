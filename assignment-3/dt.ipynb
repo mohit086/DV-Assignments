{
 "cells": [
  {
   "cell_type": "code",
   "execution_count": 1,
   "metadata": {},
   "outputs": [
    {
     "name": "stdout",
     "output_type": "stream",
     "text": [
      "Training Accuracy: 77.51%\n",
      "Validation Accuracy: 78.30%\n"
     ]
    }
   ],
   "source": [
    "import pandas as pd\n",
    "from sklearn.model_selection import train_test_split\n",
    "from sklearn.tree import DecisionTreeClassifier\n",
    "from sklearn.metrics import accuracy_score\n",
    "from sklearn.preprocessing import LabelEncoder\n",
    "\n",
    "# Load dataset\n",
    "df = pd.read_csv(\"base.csv\")\n",
    "\n",
    "# Separate features and target variable\n",
    "X = df.drop(columns=['LoanApproved'])\n",
    "y = df['LoanApproved']\n",
    "\n",
    "# Label encoding for categorical columns\n",
    "categorical_columns = X.select_dtypes(include=['object']).columns\n",
    "label_encoder = LabelEncoder()\n",
    "for col in categorical_columns:\n",
    "    X[col] = label_encoder.fit_transform(X[col])\n",
    "\n",
    "# Train-test split (80% training, 20% validation)\n",
    "X_train, X_val, y_train, y_val = train_test_split(X, y, test_size=0.2, random_state=42)\n",
    "\n",
    "# Initialize and train the Decision Tree model (max depth = 5)\n",
    "clf = DecisionTreeClassifier(random_state=42, max_depth=1)\n",
    "clf.fit(X_train, y_train)\n",
    "\n",
    "# Make predictions on both training and validation sets\n",
    "y_pred_train = clf.predict(X_train)\n",
    "y_pred_val = clf.predict(X_val)\n",
    "\n",
    "# Calculate accuracy for both training and validation sets\n",
    "train_accuracy = accuracy_score(y_train, y_pred_train)\n",
    "val_accuracy = accuracy_score(y_val, y_pred_val)\n",
    "\n",
    "# Print the accuracies\n",
    "print(f\"Training Accuracy: {train_accuracy * 100:.2f}%\")\n",
    "print(f\"Validation Accuracy: {val_accuracy * 100:.2f}%\")\n",
    "\n",
    "# Add the 'CorrectPrediction' column for both training and validation sets\n",
    "X_train['CorrectPrediction'] = (y_train == y_pred_train).astype(int)\n",
    "X_val['CorrectPrediction'] = (y_val == y_pred_val).astype(int)\n",
    "\n",
    "# Combine the training and validation datasets\n",
    "combined_df = pd.concat([X_train, X_val])\n",
    "\n",
    "# Add the 'LoanApproved' target back into the dataframe\n",
    "combined_df['LoanApproved'] = pd.concat([y_train, y_val])\n",
    "\n",
    "# Save the dataframe to a CSV file\n",
    "combined_df.to_csv(\"final.csv\", index=False)"
   ]
  }
 ],
 "metadata": {
  "kernelspec": {
   "display_name": "penv",
   "language": "python",
   "name": "python3"
  },
  "language_info": {
   "codemirror_mode": {
    "name": "ipython",
    "version": 3
   },
   "file_extension": ".py",
   "mimetype": "text/x-python",
   "name": "python",
   "nbconvert_exporter": "python",
   "pygments_lexer": "ipython3",
   "version": "3.10.15"
  }
 },
 "nbformat": 4,
 "nbformat_minor": 2
}
