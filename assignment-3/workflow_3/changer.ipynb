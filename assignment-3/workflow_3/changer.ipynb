{
 "cells": [
  {
   "cell_type": "code",
   "execution_count": 5,
   "metadata": {},
   "outputs": [],
   "source": [
    "import numpy as np\n",
    "import pandas as pd"
   ]
  },
  {
   "cell_type": "code",
   "execution_count": 6,
   "metadata": {},
   "outputs": [],
   "source": [
    "df = pd.read_csv('../data/supplementary.csv')\n",
    "# Filter rows where DTI ratio < 0.5 and CreditCardUtilizationRate < 0.5\n",
    "filtered_df = df[(df['DebtToIncomeRatio'] < 0.5) & (df['CreditCardUtilizationRate'] < 0.5)]\n",
    "\n",
    "# Identify rows where LoanApproved = 0\n",
    "loan_denied_rows = filtered_df[filtered_df['LoanApproved'] == 0]\n",
    "\n",
    "# Randomly change half of LoanApproved = 0 to LoanApproved = 1\n",
    "num_to_change = len(loan_denied_rows) // 2\n",
    "rows_to_change = loan_denied_rows.sample(n=num_to_change, random_state=42)\n",
    "\n",
    "# Change LoanApproved to 1 for those rows\n",
    "df.loc[rows_to_change.index, 'LoanApproved'] = 1\n",
    "\n",
    "df.to_csv('../data/changed.csv')"
   ]
  }
 ],
 "metadata": {
  "kernelspec": {
   "display_name": "penv",
   "language": "python",
   "name": "python3"
  },
  "language_info": {
   "codemirror_mode": {
    "name": "ipython",
    "version": 3
   },
   "file_extension": ".py",
   "mimetype": "text/x-python",
   "name": "python",
   "nbconvert_exporter": "python",
   "pygments_lexer": "ipython3",
   "version": "3.10.15"
  }
 },
 "nbformat": 4,
 "nbformat_minor": 2
}
