{
 "cells": [
  {
   "cell_type": "code",
   "execution_count": 9,
   "metadata": {},
   "outputs": [],
   "source": [
    "import pandas as pd\n",
    "df = pd.read_csv(\"final.csv\")\n",
    "df.columns\n",
    "\n",
    "cols_to_keep = ['CreditScore','AnnualIncome','LoanAmount','LoanDuration','Age','EmploymentStatus','EducationLevel','DebtToIncomeRatio','InterestRate','JobTenure','LoanApproved']\n",
    "\n",
    "df = df.drop(columns=['CorrectPrediction','NetWorth','NumberOfCreditInquiries','UtilityBillsPaymentHistory'])\n",
    "\n",
    "second_df = df.drop(columns=cols_to_keep)\n",
    "\n",
    "first_df = df[cols_to_keep]\n",
    "\n",
    "first_df.head()\n",
    "\n",
    "first_df.to_csv('first.csv')\n",
    "second_df.to_csv('second.csv')"
   ]
  }
 ],
 "metadata": {
  "kernelspec": {
   "display_name": "penv",
   "language": "python",
   "name": "python3"
  },
  "language_info": {
   "codemirror_mode": {
    "name": "ipython",
    "version": 3
   },
   "file_extension": ".py",
   "mimetype": "text/x-python",
   "name": "python",
   "nbconvert_exporter": "python",
   "pygments_lexer": "ipython3",
   "version": "3.10.15"
  }
 },
 "nbformat": 4,
 "nbformat_minor": 2
}
