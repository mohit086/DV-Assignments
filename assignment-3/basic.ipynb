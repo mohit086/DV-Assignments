{
 "cells": [
  {
   "cell_type": "code",
   "execution_count": 14,
   "metadata": {},
   "outputs": [
    {
     "name": "stdout",
     "output_type": "stream",
     "text": [
      "Columns in df1 but not in df2:\n",
      "{'InvestmentAccountBalance', 'MortgageBalance', 'AnnualBonuses', 'PersonalLoanBalance', 'AutoLoanBalance', 'StudentLoanBalance', 'MonthlyEntertainmentCosts', 'AnnualExpenses', 'MonthlyHousingCosts', 'OtherInsurancePolicies', 'MonthlyFoodCosts', 'RentPayments', 'HealthInsuranceStatus', 'EmergencyFundBalance', 'CarInsuranceStatus', 'RetirementAccountBalance', 'HomeInsuranceStatus', 'EmployerType', 'MonthlyTransportationCosts', 'MonthlyHealthcareCosts', 'LifeInsuranceStatus', 'MonthlySavings'}\n",
      "\n",
      "Columns in df2 but not in df1:\n",
      "{'ApplicationDate', 'MonthlyIncome', 'Experience', 'MonthlyLoanPayment', 'RiskScore', 'TotalDebtToIncomeRatio', 'BaseInterestRate'}\n",
      "\n",
      "DataFrames merged with 5000 rows from df2 and saved to 'base.csv'\n",
      "Index(['CreditScore', 'AnnualIncome', 'LoanAmount', 'LoanDuration', 'Age',\n",
      "       'EmploymentStatus', 'MaritalStatus', 'NumberOfDependents',\n",
      "       'EducationLevel', 'HomeOwnershipStatus', 'MonthlyDebtPayments',\n",
      "       'CreditCardUtilizationRate', 'NumberOfOpenCreditLines',\n",
      "       'NumberOfCreditInquiries', 'DebtToIncomeRatio', 'BankruptcyHistory',\n",
      "       'LoanPurpose', 'PreviousLoanDefaults', 'InterestRate', 'PaymentHistory',\n",
      "       'SavingsAccountBalance', 'CheckingAccountBalance', 'TotalAssets',\n",
      "       'TotalLiabilities', 'NetWorth', 'LengthOfCreditHistory',\n",
      "       'UtilityBillsPaymentHistory', 'JobTenure', 'LoanApproved'],\n",
      "      dtype='object')\n"
     ]
    }
   ],
   "source": [
    "import pandas as pd\n",
    "\n",
    "# Load the data\n",
    "df1 = pd.read_csv(\"filtered.csv\")\n",
    "df2 = pd.read_csv(\"d_ann.csv\")\n",
    "\n",
    "# Get the set of columns in each DataFrame\n",
    "df1_columns = set(df1.columns)\n",
    "df2_columns = set(df2.columns)\n",
    "\n",
    "# Find columns exclusive to each DataFrame\n",
    "only_in_df1 = df1_columns - df2_columns\n",
    "only_in_df2 = df2_columns - df1_columns\n",
    "\n",
    "# Convert specified columns in df2 to float64\n",
    "columns_to_convert = ['LoanDuration', 'LoanAmount', 'AnnualIncome']\n",
    "df2[columns_to_convert] = df2[columns_to_convert].astype('float64')\n",
    "\n",
    "# Print column differences\n",
    "print(\"Columns in df1 but not in df2:\")\n",
    "print(only_in_df1)\n",
    "print(\"\\nColumns in df2 but not in df1:\")\n",
    "print(only_in_df2)\n",
    "\n",
    "# Drop exclusive columns\n",
    "df1 = df1.drop(columns=only_in_df1)\n",
    "df2 = df2.drop(columns=only_in_df2)\n",
    "\n",
    "# Select only 5000 rows from df2\n",
    "df2_subset = df2.sample(n=5000, random_state=7)\n",
    "\n",
    "# Merge the DataFrames\n",
    "df_merged = pd.concat([df1, df2_subset], axis=0)\n",
    "\n",
    "# Save the merged DataFrame to a CSV file\n",
    "df_merged.to_csv('base.csv', index=False)\n",
    "\n",
    "# Print confirmation and merged columns\n",
    "print(\"\\nDataFrames merged with 5000 rows from df2 and saved to 'base.csv'\")\n",
    "print(df_merged.columns)"
   ]
  }
 ],
 "metadata": {
  "kernelspec": {
   "display_name": "penv",
   "language": "python",
   "name": "python3"
  },
  "language_info": {
   "codemirror_mode": {
    "name": "ipython",
    "version": 3
   },
   "file_extension": ".py",
   "mimetype": "text/x-python",
   "name": "python",
   "nbconvert_exporter": "python",
   "pygments_lexer": "ipython3",
   "version": "3.10.15"
  }
 },
 "nbformat": 4,
 "nbformat_minor": 2
}
