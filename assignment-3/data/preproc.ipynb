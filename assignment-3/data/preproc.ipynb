{
 "cells": [
  {
   "cell_type": "code",
   "execution_count": 9,
   "metadata": {},
   "outputs": [
    {
     "name": "stdout",
     "output_type": "stream",
     "text": [
      "Saved\n"
     ]
    }
   ],
   "source": [
    "import pandas as pd\n",
    "og = pd.read_csv('original.csv')\n",
    "sp = pd.read_csv('supplementary.csv')\n",
    "com = set(og.columns) & set(sp.columns)\n",
    "og_data = og[list(com)]\n",
    "sp_data = sp[list(com)]\n",
    "sampled = sp_data.sample(n=5000, random_state=0)\n",
    "combined = pd.concat([og_data, sampled], axis=0, ignore_index=True)\n",
    "cols_to_drop = ['UtilityBillsPaymentHistory', 'PaymentHistory', 'NetWorth']\n",
    "combined = combined.drop(columns=cols_to_drop, errors='ignore')\n",
    "combined.to_csv('base.csv', index=False)\n",
    "print(\"Saved\")"
   ]
  }
 ],
 "metadata": {
  "kernelspec": {
   "display_name": "penv",
   "language": "python",
   "name": "python3"
  },
  "language_info": {
   "codemirror_mode": {
    "name": "ipython",
    "version": 3
   },
   "file_extension": ".py",
   "mimetype": "text/x-python",
   "name": "python",
   "nbconvert_exporter": "python",
   "pygments_lexer": "ipython3",
   "version": "3.10.15"
  }
 },
 "nbformat": 4,
 "nbformat_minor": 2
}
