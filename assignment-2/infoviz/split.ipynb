{
 "cells": [
  {
   "cell_type": "code",
   "execution_count": 3,
   "metadata": {},
   "outputs": [],
   "source": [
    "import pandas as pd\n",
    "\n",
    "# Load nodes and edges data\n",
    "nodes = pd.read_csv('nodes.csv')\n",
    "edges = pd.read_csv('edges.csv')\n",
    "\n",
    "# Define the three time periods\n",
    "time_periods = {\n",
    "    '0_800': (0, 800),\n",
    "    '801_1400': (801, 1400),\n",
    "    '1400_plus': (1401, float('inf'))\n",
    "}\n",
    "\n",
    "# Create dictionaries to store nodes and edges for each time period\n",
    "nodes_by_period = {'0_800': [], '801_1400': [], '1400_plus': []}\n",
    "edges_by_period = {'0_800': [], '801_1400': [], '1400_plus': []}\n",
    "\n",
    "# Split nodes based on birth year\n",
    "for index, row in nodes.iterrows():\n",
    "    birthY = row['birthY']\n",
    "    if time_periods['0_800'][0] <= birthY <= time_periods['0_800'][1]:\n",
    "        nodes_by_period['0_800'].append(row)\n",
    "    elif time_periods['801_1400'][0] <= birthY <= time_periods['801_1400'][1]:\n",
    "        nodes_by_period['801_1400'].append(row)\n",
    "    elif birthY >= time_periods['1400_plus'][0]:\n",
    "        nodes_by_period['1400_plus'].append(row)\n",
    "\n",
    "# Create a dictionary to map node IDs to time periods\n",
    "node_to_period = {}\n",
    "for period, node_list in nodes_by_period.items():\n",
    "    for node in node_list:\n",
    "        node_to_period[node['id']] = period\n",
    "\n",
    "# Check edges and categorize them\n",
    "for index, row in edges.iterrows():\n",
    "    source_period = node_to_period.get(row['source'], None)\n",
    "    target_period = node_to_period.get(row['target'], None)\n",
    "    \n",
    "    if source_period and target_period:\n",
    "        if source_period == target_period:\n",
    "            edges_by_period[source_period].append(row)\n",
    "\n",
    "# Save the categorized edges to CSV files\n",
    "pd.DataFrame(edges_by_period['0_800']).to_csv('edges_0_800.csv', index=False)\n",
    "pd.DataFrame(edges_by_period['801_1400']).to_csv('edges_801_1400.csv', index=False)\n",
    "pd.DataFrame(edges_by_period['1400_plus']).to_csv('edges_1400_plus.csv', index=False)\n",
    "\n",
    "# Save the categorized nodes to CSV files\n",
    "pd.DataFrame(nodes_by_period['0_800']).to_csv('nodes_0_800.csv', index=False)\n",
    "pd.DataFrame(nodes_by_period['801_1400']).to_csv('nodes_801_1400.csv', index=False)\n",
    "pd.DataFrame(nodes_by_period['1400_plus']).to_csv('nodes_1400_plus.csv', index=False)\n"
   ]
  }
 ],
 "metadata": {
  "kernelspec": {
   "display_name": "Python 3",
   "language": "python",
   "name": "python3"
  },
  "language_info": {
   "codemirror_mode": {
    "name": "ipython",
    "version": 3
   },
   "file_extension": ".py",
   "mimetype": "text/x-python",
   "name": "python",
   "nbconvert_exporter": "python",
   "pygments_lexer": "ipython3",
   "version": "3.10.12"
  }
 },
 "nbformat": 4,
 "nbformat_minor": 2
}
