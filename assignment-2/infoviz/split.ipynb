{
 "cells": [
  {
   "cell_type": "code",
   "execution_count": 2,
   "metadata": {},
   "outputs": [],
   "source": [
    "import pandas as pd\n",
    "\n",
    "# Load nodes and edges data\n",
    "nodes = pd.read_csv('nodes.csv')\n",
    "edges = pd.read_csv('edges.csv')\n",
    "\n",
    "# Define the three time periods\n",
    "time_periods = {\n",
    "    '0_800': (0, 800),\n",
    "    '801_1400': (801, 1400),\n",
    "    '1400_plus': (1401, float('inf'))\n",
    "}\n",
    "\n",
    "# Create dictionaries to store nodes and edges for each time period\n",
    "nodes_by_period = {'0_800': [], '801_1400': [], '1400_plus': []}\n",
    "edges_by_period = {'same_period': [], 'different_period': []}\n",
    "\n",
    "# Split nodes based on birth year\n",
    "for index, row in nodes.iterrows():\n",
    "    birthY = row['birthY']\n",
    "    if time_periods['0_800'][0] <= birthY <= time_periods['0_800'][1]:\n",
    "        nodes_by_period['0_800'].append(row)\n",
    "    elif time_periods['801_1400'][0] <= birthY <= time_periods['801_1400'][1]:\n",
    "        nodes_by_period['801_1400'].append(row)\n",
    "    elif birthY >= time_periods['1400_plus'][0]:\n",
    "        nodes_by_period['1400_plus'].append(row)\n",
    "\n",
    "# Convert to DataFrames and save nodes to CSVs\n",
    "for period, data in nodes_by_period.items():\n",
    "    pd.DataFrame(data).to_csv(f'nodes_{period}.csv', index=False)"
   ]
  }
 ],
 "metadata": {
  "kernelspec": {
   "display_name": "Python 3",
   "language": "python",
   "name": "python3"
  },
  "language_info": {
   "codemirror_mode": {
    "name": "ipython",
    "version": 3
   },
   "file_extension": ".py",
   "mimetype": "text/x-python",
   "name": "python",
   "nbconvert_exporter": "python",
   "pygments_lexer": "ipython3",
   "version": "3.10.12"
  }
 },
 "nbformat": 4,
 "nbformat_minor": 2
}
