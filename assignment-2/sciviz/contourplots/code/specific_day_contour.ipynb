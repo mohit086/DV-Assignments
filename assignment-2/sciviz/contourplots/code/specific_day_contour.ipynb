{
 "cells": [
  {
   "cell_type": "code",
   "execution_count": null,
   "metadata": {},
   "outputs": [],
   "source": [
    "import matplotlib.pyplot as plt\n",
    "import cartopy.crs as ccrs\n",
    "import cartopy.feature as cfeature\n",
    "import numpy as np\n",
    "from matplotlib.colors import PowerNorm, LogNorm\n",
    "from datetime import datetime\n",
    "from netCDF4 import Dataset, num2date\n",
    "from datetime import datetime\n",
    "import imageio\n",
    "\n",
    "\n",
    "variable_name = ''\n",
    "long_name = ''\n",
    "file_name = ''"
   ]
  }
 ],
 "metadata": {
  "kernelspec": {
   "display_name": "base",
   "language": "python",
   "name": "python3"
  },
  "language_info": {
   "name": "python",
   "version": "3.12.2"
  }
 },
 "nbformat": 4,
 "nbformat_minor": 2
}
