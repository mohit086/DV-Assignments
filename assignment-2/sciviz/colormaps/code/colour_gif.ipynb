{
 "cells": [
  {
   "cell_type": "code",
   "execution_count": 2,
   "metadata": {},
   "outputs": [
    {
     "name": "stdout",
     "output_type": "stream",
     "text": [
      "GIF created and saved as temp2.gif\n"
     ]
    }
   ],
   "source": [
    "import imageio.v2 as imageio\n",
    "import os\n",
    "\n",
    "# Set the path to the folder containing your images\n",
    "image_folder = './tmmx_plots'\n",
    "output_path = 'temp2.gif'\n",
    "images = []\n",
    "\n",
    "# Load and sort the images by filename\n",
    "for file_name in sorted(os.listdir(image_folder)):\n",
    "    if file_name.endswith('.png') or file_name.endswith('.jpg'):  # Adjust based on your image format\n",
    "        file_path = os.path.join(image_folder, file_name)\n",
    "        images.append(imageio.imread(file_path))\n",
    "\n",
    "# Save as a GIF\n",
    "imageio.mimsave(output_path, images, duration=1)  # duration is in seconds per frame\n",
    "\n",
    "print(f\"GIF created and saved as {output_path}\")\n"
   ]
  }
 ],
 "metadata": {
  "kernelspec": {
   "display_name": "Python 3",
   "language": "python",
   "name": "python3"
  },
  "language_info": {
   "codemirror_mode": {
    "name": "ipython",
    "version": 3
   },
   "file_extension": ".py",
   "mimetype": "text/x-python",
   "name": "python",
   "nbconvert_exporter": "python",
   "pygments_lexer": "ipython3",
   "version": "3.10.12"
  }
 },
 "nbformat": 4,
 "nbformat_minor": 2
}
