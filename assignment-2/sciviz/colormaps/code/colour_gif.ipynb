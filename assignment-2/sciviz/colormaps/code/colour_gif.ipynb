{
 "cells": [
  {
   "cell_type": "code",
   "execution_count": 13,
   "metadata": {},
   "outputs": [
    {
     "name": "stdout",
     "output_type": "stream",
     "text": [
      "GIF created and saved as YlOrRd.gif\n"
     ]
    }
   ],
   "source": [
    "import imageio.v2 as imageio\n",
    "import os\n",
    "\n",
    "# Set the path to the folder containing your images\n",
    "image_folder = './final_images_for_gif_YlOrRd'\n",
    "output_path = 'YlOrRd.gif'\n",
    "images = []\n",
    "\n",
    "# Load and sort the images by filename\n",
    "for file_name in sorted(os.listdir(image_folder)):\n",
    "    if file_name.endswith('.png') or file_name.endswith('.jpg'):  # Adjust based on your image format\n",
    "        file_path = os.path.join(image_folder, file_name)\n",
    "        images.append(imageio.imread(file_path))\n",
    "\n",
    "# Save as a GIF\n",
    "imageio.mimsave(output_path, images, fps=2)  # duration is in seconds per frame\n",
    "\n",
    "print(f\"GIF created and saved as {output_path}\")\n"
   ]
  }
 ],
 "metadata": {
  "kernelspec": {
   "display_name": "Python 3",
   "language": "python",
   "name": "python3"
  },
  "language_info": {
   "codemirror_mode": {
    "name": "ipython",
    "version": 3
   },
   "file_extension": ".py",
   "mimetype": "text/x-python",
   "name": "python",
   "nbconvert_exporter": "python",
   "pygments_lexer": "ipython3",
   "version": "3.10.12"
  }
 },
 "nbformat": 4,
 "nbformat_minor": 2
}
