{
 "cells": [
  {
   "cell_type": "code",
   "execution_count": 1,
   "metadata": {},
   "outputs": [],
   "source": [
    "import xarray as xr\n",
    "file_path = './dotnc/tmmx_2021.nc'\n",
    "dataset = xr.open_dataset(file_path)\n",
    "filtered_data = dataset.sel(day=slice('2021-06-01', '2021-08-31'))\n",
    "filtered_data.to_netcdf('./dotnc/tmmx_2021_jun_to_aug.nc')\n",
    "dataset.close()"
   ]
  },
  {
   "cell_type": "code",
   "execution_count": 1,
   "metadata": {},
   "outputs": [
    {
     "name": "stdout",
     "output_type": "stream",
     "text": [
      "['erc_2021.nc', 'pr_2021.nc', 'fm100_2021.nc', 'vpd_2021.nc', 'vs_2021.nc', 'tmmn_2021.nc', 'sph_2021.nc', 'srad_2021.nc', 'pet_2021.nc', 'etr_2021.nc', 'rmin_2021.nc', 'fm1000_2021.nc', 'rmax_2021.nc', 'th_2021.nc', 'tmmx_2021.nc', 'bi_2021.nc']\n",
      "looking at file:  erc_2021.nc\n",
      "looking at file:  pr_2021.nc\n",
      "looking at file:  fm100_2021.nc\n",
      "looking at file:  vpd_2021.nc\n",
      "looking at file:  vs_2021.nc\n",
      "looking at file:  tmmn_2021.nc\n",
      "looking at file:  sph_2021.nc\n",
      "looking at file:  srad_2021.nc\n",
      "looking at file:  pet_2021.nc\n",
      "looking at file:  etr_2021.nc\n",
      "looking at file:  rmin_2021.nc\n",
      "looking at file:  fm1000_2021.nc\n",
      "looking at file:  rmax_2021.nc\n",
      "looking at file:  th_2021.nc\n",
      "looking at file:  tmmx_2021.nc\n",
      "looking at file:  bi_2021.nc\n"
     ]
    }
   ],
   "source": [
    "# #optionally use this if you have all your netcdf files in a folder called dotnc\n",
    "# import xarray as xr\n",
    "# import os\n",
    "# files = os.listdir('./dotnc')\n",
    "\n",
    "# def myFunc(x):\n",
    "#     if('jul' in x):\n",
    "#         return False\n",
    "#     else:\n",
    "#        return True\n",
    "    \n",
    "# nf = filter(myFunc, files)\n",
    "\n",
    "# files = [x for x in nf]\n",
    "# print(files)\n",
    "\n",
    "# for file in files:\n",
    "#     print('looking at file: ', file)\n",
    "#     dataset = xr.open_dataset('./dotnc/' + file)\n",
    "#     filtered_data = dataset.sel(day=slice('2021-06-01', '2021-08-31'))\n",
    "#     filtered_data.to_netcdf('./dotnc/'+'jul_to_aug_'+file)\n",
    "#     dataset.close()\n",
    "\n",
    "\n",
    "\n"
   ]
  }
 ],
 "metadata": {
  "kernelspec": {
   "display_name": "Python 3",
   "language": "python",
   "name": "python3"
  },
  "language_info": {
   "codemirror_mode": {
    "name": "ipython",
    "version": 3
   },
   "file_extension": ".py",
   "mimetype": "text/x-python",
   "name": "python",
   "nbconvert_exporter": "python",
   "pygments_lexer": "ipython3",
   "version": "3.10.12"
  }
 },
 "nbformat": 4,
 "nbformat_minor": 2
}
