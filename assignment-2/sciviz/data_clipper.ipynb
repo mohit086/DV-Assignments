{
 "cells": [
  {
   "cell_type": "code",
   "execution_count": 1,
   "metadata": {},
   "outputs": [],
   "source": [
    "import xarray as xr\n",
    "file_path = './dotnc/erc_2021.nc'\n",
    "dataset = xr.open_dataset(file_path)\n",
    "filtered_data = dataset.sel(day=slice('2021-06-01', '2021-08-31'))\n",
    "filtered_data.to_netcdf('./dotnc/erc_2021_jul_to_aug.nc')\n",
    "dataset.close()"
   ]
  },
  {
   "cell_type": "code",
   "execution_count": 15,
   "metadata": {},
   "outputs": [],
   "source": [
    "#optionally use this if you have all your netcdf files in a folder called dotnc\n",
    "import xarray as xr\n",
    "import os\n",
    "files = os.listdir('./dotnc')\n",
    "\n",
    "def myFunc(x):\n",
    "    if('jul' in x):\n",
    "        return False\n",
    "    else:\n",
    "       return True\n",
    "    \n",
    "nf = filter(myFunc, files)\n",
    "\n",
    "files = [x for x in nf]\n",
    "# print(files)\n",
    "\n",
    "for file in files:\n",
    "    print('looking at file: ', file)\n",
    "    dataset = xr.open_dataset('./dotnc/' + file)\n",
    "    filtered_data = dataset.sel(day=slice('2021-06-01', '2021-08-31'))\n",
    "    filtered_data.to_netcdf('./dotnc/'+'jul_to_aug_'+file)\n",
    "    dataset.close()\n",
    "\n",
    "\n",
    "\n"
   ]
  }
 ],
 "metadata": {
  "kernelspec": {
   "display_name": "venv",
   "language": "python",
   "name": "python3"
  },
  "language_info": {
   "codemirror_mode": {
    "name": "ipython",
    "version": 3
   },
   "file_extension": ".py",
   "mimetype": "text/x-python",
   "name": "python",
   "nbconvert_exporter": "python",
   "pygments_lexer": "ipython3",
   "version": "3.12.2"
  }
 },
 "nbformat": 4,
 "nbformat_minor": 2
}
