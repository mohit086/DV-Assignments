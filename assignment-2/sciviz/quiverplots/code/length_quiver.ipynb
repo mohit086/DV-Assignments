{
 "cells": [
  {
   "cell_type": "code",
   "execution_count": 1,
   "metadata": {},
   "outputs": [
    {
     "name": "stdout",
     "output_type": "stream",
     "text": [
      "Running...\n",
      "Completed\n"
     ]
    }
   ],
   "source": [
    "import os\n",
    "import numpy as np\n",
    "import xarray as xr\n",
    "import imageio.v2 as imageio\n",
    "import matplotlib.pyplot as plt\n",
    "from mpl_toolkits.basemap import Basemap\n",
    "from datetime import datetime, timedelta\n",
    "\n",
    "# load datasets and extract values for lon and lat\n",
    "dir_data = xr.open_dataset('../../data/th.nc')\n",
    "speed_data = xr.open_dataset('../../data/vs.nc')\n",
    "lon = dir_data['lon'].values\n",
    "lat = dir_data['lat'].values\n",
    "\n",
    "start_date = datetime(2021, 6, 1) # starting date\n",
    "num_arrows = 1000 # number of arrows\n",
    "day_list = [8,9,10,11,88,89,90,91] # list of days to visualize\n",
    "num_frames = len(day_list) # for the gif\n",
    "images = [] # for the gif\n",
    "\n",
    "# downsample for even grid and faster results\n",
    "step_lon = len(lon) // int(np.sqrt(num_arrows))\n",
    "step_lat = len(lat) // int(np.sqrt(num_arrows))\n",
    "\n",
    "# index arrays\n",
    "lon_indices = np.arange(0, len(lon), step_lon)[:int(np.sqrt(num_arrows))]\n",
    "lat_indices = np.arange(0, len(lat), step_lat)[:int(np.sqrt(num_arrows))]\n",
    "\n",
    "sample_lon, sample_lat = np.meshgrid(lon[lon_indices], lat[lat_indices]) # sampling grid\n",
    "os.makedirs('../images/length_quiver', exist_ok=True)\n",
    "print(\"Running...\")\n",
    "\n",
    "for day in day_list:\n",
    "\n",
    "    wind_speed = speed_data['wind_speed'].isel(day=day).values\n",
    "    wind_dir = dir_data['wind_from_direction'].isel(day=day).values\n",
    "    wind_rad = np.deg2rad(wind_dir) # degrees to radians\n",
    "    V = np.cos(wind_rad) # horizontal component\n",
    "    U = np.sin(wind_rad) # vertical component\n",
    "\n",
    "    # sample at specified indices, and scale by the wind speed\n",
    "    U_sample = U[lat_indices[:, None], lon_indices] * wind_speed[lat_indices[:, None], lon_indices]\n",
    "    V_sample = V[lat_indices[:, None], lon_indices] * wind_speed[lat_indices[:, None], lon_indices]\n",
    "\n",
    "    # Basemap projection for the US, with continents, coasts, longitudes and latitudes\n",
    "    fig, ax = plt.subplots(figsize=(9, 6))\n",
    "    m = Basemap(llcrnrlon=-123, llcrnrlat=20, urcrnrlon=-62, urcrnrlat=50,\n",
    "                projection='lcc', lat_1=33, lat_2=45, lat_0=39.5, lon_0=-98, ax=ax)\n",
    "    m.drawmapboundary(fill_color='#A6CAE0')\n",
    "    m.fillcontinents(color='#E1DCBD', lake_color='#A6CAE0', alpha=0.7)\n",
    "    m.drawcoastlines(color='#404040', linewidth=0.8)\n",
    "    m.drawcountries(color='#404040', linewidth=0.6)\n",
    "    m.drawparallels(np.arange(20, 51, 10), labels=[1, 0, 0, 0], fontsize=8, color='#808080', linewidth=0.5)\n",
    "    m.drawmeridians(np.arange(-120, -60, 10), labels=[0, 0, 0, 1], fontsize=8, color='#808080', linewidth=0.5)\n",
    "\n",
    "    x, y = m(sample_lon, sample_lat) # sample points -> projection coordinates\n",
    "\n",
    "    # quiver plot. Values can be changed for experimentation\n",
    "    q = m.quiver(x, y, U_sample, V_sample, color='blue', scale=200, width=0.0015)\n",
    "    plt.quiverkey(q, 0.9, 1.05, 4, '4 m/s', labelpos='E', coordinates='axes', fontproperties={'size': 10}) # key\n",
    "    \n",
    "    # Save the figures and make the gif\n",
    "    current_date = start_date + timedelta(days=day)\n",
    "    date_str = current_date.strftime(\"%-d %b\")\n",
    "    plt.title(f\"Wind Direction Analysis - {date_str}\", fontsize=14, pad=20)\n",
    "    plt.tight_layout()\n",
    "    fig.savefig(f'../images/length_quiver/{date_str.replace(\" \", \"_\")}.png', format='png')\n",
    "    plt.close(fig)\n",
    "    images.append(imageio.imread(f'../images/length_quiver/{date_str.replace(\" \", \"_\")}.png'))\n",
    "    imageio.mimsave(f'../gifs/length_quiver.gif', images, fps=2)\n",
    "\n",
    "print(\"Completed\")"
   ]
  }
 ],
 "metadata": {
  "kernelspec": {
   "display_name": "penv",
   "language": "python",
   "name": "python3"
  },
  "language_info": {
   "codemirror_mode": {
    "name": "ipython",
    "version": 3
   },
   "file_extension": ".py",
   "mimetype": "text/x-python",
   "name": "python",
   "nbconvert_exporter": "python",
   "pygments_lexer": "ipython3",
   "version": "3.10.15"
  }
 },
 "nbformat": 4,
 "nbformat_minor": 2
}
