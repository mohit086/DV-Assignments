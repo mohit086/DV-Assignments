{
 "cells": [
  {
   "cell_type": "code",
   "execution_count": null,
   "metadata": {},
   "outputs": [
    {
     "name": "stdout",
     "output_type": "stream",
     "text": [
      "Running...\n",
      "Completed\n"
     ]
    }
   ],
   "source": [
    "import numpy as np\n",
    "import matplotlib.pyplot as plt\n",
    "import xarray as xr\n",
    "from mpl_toolkits.basemap import Basemap\n",
    "from matplotlib.colors import LinearSegmentedColormap, Normalize\n",
    "import imageio.v2 as imageio\n",
    "import os\n",
    "\n",
    "colors = [\"#e0f7fa\", \"#b2ebf2\", \"#80deea\", \"#4dd0e1\", \"#26c6da\", \n",
    "          \"#00bcd4\", \"#00acc1\", \"#0097a7\", \"#00838f\", \"#006064\",\n",
    "          \"#004f5c\", \"#003a4a\", \"#002938\", \"#001921\", \"#000c12\"]\n",
    "custom_cmap = LinearSegmentedColormap.from_list(\"custom_blue_15\", colors, N=15)\n",
    "dir_data = xr.open_dataset('../../data/th.nc')\n",
    "speed_data = xr.open_dataset('../../data/vs.nc')\n",
    "lon = dir_data['lon'].values\n",
    "lat = dir_data['lat'].values\n",
    "num_arrows = 1000\n",
    "num_frames = 10\n",
    "step_lon, step_lat = len(lon) // int(np.sqrt(num_arrows)), len(lat) // int(np.sqrt(num_arrows))\n",
    "lon_indices = np.arange(0, len(lon), step_lon)[:int(np.sqrt(num_arrows))]\n",
    "lat_indices = np.arange(0, len(lat), step_lat)[:int(np.sqrt(num_arrows))]\n",
    "sample_lon, sample_lat = np.meshgrid(lon[lon_indices], lat[lat_indices])\n",
    "norm = Normalize(vmin=0, vmax=10)\n",
    "print(\"Running...\")\n",
    "\n",
    "def generate_images():\n",
    "    os.makedirs('../images/color_quiver', exist_ok=True)\n",
    "    for day in range(0, 92, 92//num_frames):\n",
    "        wind_speed = speed_data['wind_speed'].isel(day=day).values\n",
    "        wind_dir = dir_data['wind_from_direction'].isel(day=day).values\n",
    "        wind_rad = np.deg2rad(wind_dir)\n",
    "        U = np.sin(wind_rad)\n",
    "        V = np.cos(wind_rad)\n",
    "        U_sample = U[lat_indices[:, None], lon_indices]\n",
    "        V_sample = V[lat_indices[:, None], lon_indices]\n",
    "        speed_sample = wind_speed[lat_indices[:, None], lon_indices]\n",
    "        fig, ax = plt.subplots(figsize=(10, 7))\n",
    "        m = Basemap(llcrnrlon=-123, llcrnrlat=20, urcrnrlon=-62, urcrnrlat=50,\n",
    "                    projection='lcc', lat_1=33, lat_2=45, lat_0=39.5, lon_0=-98, ax=ax)\n",
    "        m.drawmapboundary(fill_color='#A6CAE0')\n",
    "        m.fillcontinents(color='#E1DCBD', lake_color='#A6CAE0', alpha=0.7)\n",
    "        m.drawcoastlines(color='#404040', linewidth=0.8)\n",
    "        m.drawcountries(color='#404040', linewidth=0.6)\n",
    "        m.drawparallels(np.arange(20,51,10), labels=[1,0,0,0], fontsize=8, color='#808080', linewidth=0.5)\n",
    "        m.drawmeridians(np.arange(-120,-60,10), labels=[0,0,0,1], fontsize=8, color='#808080', linewidth=0.5)\n",
    "        x, y = m(sample_lon, sample_lat)\n",
    "        q = m.quiver(x, y, U_sample, V_sample, speed_sample, cmap=custom_cmap, norm=norm, scale=40)\n",
    "        plt.colorbar(q, label='Wind Speed (m/s)', orientation='vertical', fraction=0.046, aspect=10)\n",
    "        plt.title(f\"Wind Direction Analysis - Day {day}\", fontsize=14, pad=20, fontweight='bold')\n",
    "        plt.tight_layout()\n",
    "        fig.savefig(f'../images/color_quiver/day_{day:02d}.png', format='png')\n",
    "        plt.close(fig)\n",
    "\n",
    "def create_gif():\n",
    "    images = []\n",
    "    for day in range(0, 92, 92 // num_frames):\n",
    "        images.append(imageio.imread(f'../images/color_quiver/day_{day:02d}.png'))\n",
    "    imageio.mimsave(f'../gifs/color_quiver_{1 + num_frames}.gif', images, fps=2)\n",
    "\n",
    "generate_images()\n",
    "create_gif()\n",
    "print(\"Completed\")"
   ]
  }
 ],
 "metadata": {
  "kernelspec": {
   "display_name": "penv",
   "language": "python",
   "name": "python3"
  },
  "language_info": {
   "codemirror_mode": {
    "name": "ipython",
    "version": 3
   },
   "file_extension": ".py",
   "mimetype": "text/x-python",
   "name": "python",
   "nbconvert_exporter": "python",
   "pygments_lexer": "ipython3",
   "version": "3.10.15"
  }
 },
 "nbformat": 4,
 "nbformat_minor": 2
}
